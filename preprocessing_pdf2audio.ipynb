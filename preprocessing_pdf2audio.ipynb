{
  "cells": [
    {
      "cell_type": "code",
      "execution_count": null,
      "metadata": {
        "id": "AfhHM2609Jz2"
      },
      "outputs": [],
      "source": [
        "# A variable to switch between a smaller sample of trainnig data and actual training data.\n",
        "TESTING = True"
      ]
    },
    {
      "cell_type": "code",
      "execution_count": null,
      "metadata": {
        "id": "z6Vu4bve5Nk-"
      },
      "outputs": [],
      "source": [
        "import os\n",
        "import xml.etree.ElementTree as et\n",
        "import json\n",
        "import cv2\n",
        "import numpy as np\n",
        "from google.colab.patches import cv2_imshow\n",
        "import matplotlib.pyplot as pp\n",
        "from google.colab import drive\n",
        "from tqdm.notebook import tqdm"
      ]
    },
    {
      "cell_type": "code",
      "execution_count": null,
      "metadata": {
        "colab": {
          "base_uri": "https://localhost:8080/"
        },
        "id": "-1FU8mPj6SXa",
        "outputId": "40681d58-fb8d-4c43-fab1-df108116861b"
      },
      "outputs": [
        {
          "name": "stdout",
          "output_type": "stream",
          "text": [
            "Drive already mounted at /content/drive; to attempt to forcibly remount, call drive.mount(\"/content/drive\", force_remount=True).\n"
          ]
        }
      ],
      "source": [
        "drive.mount('/content/drive')"
      ]
    },
    {
      "cell_type": "code",
      "execution_count": null,
      "metadata": {
        "id": "QKfD6Zok5PAR"
      },
      "outputs": [],
      "source": [
        "# A data structure that holds block of characters.\n",
        "class PageBlock:\n",
        "    def __init__(self, x1, y1, x2, y2, block_class='textRegion'):\n",
        "        self.x1 = x1\n",
        "        self.y1 = y1\n",
        "        self.x2 = x2\n",
        "        self.y2 = y2\n",
        "        self.block_class = block_class"
      ]
    },
    {
      "cell_type": "code",
      "execution_count": null,
      "metadata": {
        "id": "69CUYVpY5SYM"
      },
      "outputs": [],
      "source": [
        "# A utility function to remove margin\n",
        "def shrink_to_best_fit(img, page_block):\n",
        "\n",
        "    shrink_line = np.all(\n",
        "        img[page_block.y1:page_block.y2+1, page_block.x1:page_block.x2+1] == 0,\n",
        "        axis=1\n",
        "    )\n",
        "\n",
        "    shrink_col = np.all(\n",
        "        img[page_block.y1:page_block.y2+1, page_block.x1:page_block.x2+1] == 0,\n",
        "        axis=0\n",
        "    )\n",
        "\n",
        "    for val in shrink_line:\n",
        "        if val:\n",
        "            page_block.y1 += 1\n",
        "        else:\n",
        "            break\n",
        "\n",
        "    for val in reversed(shrink_line):\n",
        "        if val:\n",
        "            page_block.y2 -= 1\n",
        "        else:\n",
        "            break\n",
        "\n",
        "    for val in shrink_col:\n",
        "        if val:\n",
        "            page_block.x1 += 1\n",
        "        else:\n",
        "            break\n",
        "\n",
        "    for val in reversed(shrink_col):\n",
        "        if val:\n",
        "            page_block.x2 -= 1\n",
        "        else:\n",
        "            break\n",
        "\n",
        "    return page_block"
      ]
    },
    {
      "cell_type": "code",
      "execution_count": null,
      "metadata": {
        "id": "w0NX5Eln5Tmr"
      },
      "outputs": [],
      "source": [
        "def get_processed_img(img):\n",
        "    gray_img = cv2.cvtColor(img, cv2.COLOR_BGR2GRAY)\n",
        "    _, pros_img = cv2.threshold(\n",
        "        gray_img, 0, 255, cv2.THRESH_BINARY_INV | cv2.THRESH_OTSU)\n",
        "    return pros_img"
      ]
    },
    {
      "cell_type": "code",
      "execution_count": null,
      "metadata": {
        "id": "qSO8AfEq5UhQ"
      },
      "outputs": [],
      "source": [
        "def plot_array(array):\n",
        "    pp.plot(array)\n",
        "    pp.show()"
      ]
    },
    {
      "cell_type": "code",
      "execution_count": null,
      "metadata": {
        "id": "vADNL65Y5V9_"
      },
      "outputs": [],
      "source": [
        "def draw_rectangle(img, page_block_list):\n",
        "\n",
        "    def get_color(block_class):\n",
        "        if (block.block_class == 'figureRegion'):\n",
        "            return (255, 0, 0)\n",
        "        elif (block.block_class == 'formulaRegion'):\n",
        "            return (255, 255, 0)\n",
        "        elif (block.block_class == 'tableRegion'):\n",
        "            return (0, 255, 255)\n",
        "        else:\n",
        "            return (157, 0, 255)\n",
        "\n",
        "    img_copy = img.copy()\n",
        "    for block in page_block_list:\n",
        "        color = get_color(block.block_class)\n",
        "        cv2.rectangle(\n",
        "            img_copy,\n",
        "            (block.x1, block.y1, block.x2-block.x1+1, block.y2-block.y1+1),\n",
        "            color,\n",
        "            1\n",
        "        )\n",
        "\n",
        "    cv2_imshow(img_copy)\n"
      ]
    },
    {
      "cell_type": "code",
      "execution_count": null,
      "metadata": {
        "id": "taX4XMl55XFw"
      },
      "outputs": [],
      "source": [
        "def get_dilated_img(img, shape, iterations):\n",
        "    # dilate the image to improve vertical projection.\n",
        "    kernel = cv2.getStructuringElement(cv2.MORPH_RECT, shape)\n",
        "    dilate = cv2.dilate(img, kernel, iterations)\n",
        "    # cv2_imshow(dilate)\n",
        "    return dilate"
      ]
    },
    {
      "cell_type": "code",
      "execution_count": null,
      "metadata": {
        "id": "9n924W1B5Y-H"
      },
      "outputs": [],
      "source": [
        "def get_column_separator(dilated_img):\n",
        "\n",
        "    #page_block = shrink_to_best_fit(\n",
        "    #   dilated_img,\n",
        "    #    PageBlock(0, 0, dilated_img.shape[1]-1, dilated_img.shape[0]-1)\n",
        "    #)\n",
        "    page_block = PageBlock(0, 0, dilated_img.shape[1]-1, dilated_img.shape[0]-1)\n",
        "\n",
        "    vertical_projection = np.sum(\n",
        "        dilated_img[page_block.y1:page_block.y2 +\n",
        "                    1, page_block.x1:page_block.x2+1],\n",
        "        axis=0\n",
        "    )\n",
        "\n",
        "    #plot_array(vertical_projection)\n",
        "\n",
        "    # find minima in projection\n",
        "    try:\n",
        "        offset = int(page_block.x2/3)\n",
        "\n",
        "        col_sep_list = np.where(\n",
        "            vertical_projection[page_block.x1+offset:page_block.x2-offset] ==\n",
        "            np.amin(vertical_projection[page_block.x1+offset:page_block.x2-offset])\n",
        "        )\n",
        "        # print(offset)\n",
        "        # print(page_block.x1+col_sep_list[0][0])\n",
        "        return offset+col_sep_list[0][0]\n",
        "    except ValueError:\n",
        "        return -1"
      ]
    },
    {
      "cell_type": "code",
      "execution_count": null,
      "metadata": {
        "id": "FbAjn2a75ZjQ"
      },
      "outputs": [],
      "source": [
        "def line_extraction(img, page_block):\n",
        "    partition_list = []\n",
        "\n",
        "    block_horizontal_projection = np.sum(\n",
        "        img[page_block.y1:page_block.y2+1, page_block.x1:page_block.x2+1],\n",
        "        axis=1\n",
        "    )\n",
        "\n",
        "    # plot_array(block_horizontal_projection)\n",
        "\n",
        "    blank_pixel_line_count = 0\n",
        "    y1 = page_block.y1\n",
        "\n",
        "    for val in block_horizontal_projection:\n",
        "        if val == 0:\n",
        "            blank_pixel_line_count += 1\n",
        "        else:\n",
        "            if blank_pixel_line_count >= 1:\n",
        "                partition_list.append(y1-1)\n",
        "            blank_pixel_line_count = 0\n",
        "\n",
        "        y1 += 1\n",
        "\n",
        "    lines = []\n",
        "    cur_y = page_block.y1\n",
        "\n",
        "    for y in partition_list:\n",
        "\n",
        "        page_line = shrink_to_best_fit(\n",
        "            img,\n",
        "            page_block=PageBlock(page_block.x1, cur_y, page_block.x2, y)\n",
        "        )\n",
        "\n",
        "        lines.append(page_line)\n",
        "        cur_y = y+1\n",
        "\n",
        "    page_line = shrink_to_best_fit(\n",
        "        img,\n",
        "        page_block=PageBlock(page_block.x1, cur_y,\n",
        "                             page_block.x2, page_block.y2)\n",
        "    )\n",
        "\n",
        "    lines.append(page_line)\n",
        "\n",
        "    return lines"
      ]
    },
    {
      "cell_type": "code",
      "execution_count": null,
      "metadata": {
        "id": "9cF9kS0O5dJP"
      },
      "outputs": [],
      "source": [
        "def do_blocks_overlap(left_page_block, right_page_block):\n",
        "    return not(\n",
        "        left_page_block.y2 < right_page_block.y1 or\n",
        "        left_page_block.y1 > right_page_block.y2\n",
        "    )"
      ]
    },
    {
      "cell_type": "code",
      "execution_count": null,
      "metadata": {
        "id": "YBVa16kj5j_t"
      },
      "outputs": [],
      "source": [
        "def get_average_space(pros_img, page_block):\n",
        "    dilate = get_dilated_img(\n",
        "        pros_img[page_block.y1:page_block.y2+1, page_block.x1:page_block.x2+1],\n",
        "        shape=(3, 3),\n",
        "        iterations=2\n",
        "    )\n",
        "\n",
        "    vertical_projection = np.sum(dilate, axis=0)\n",
        "\n",
        "    count = 0\n",
        "    times_count = 0\n",
        "    sum_of_space_count = 0\n",
        "\n",
        "    for val in vertical_projection:\n",
        "        if val == 0:\n",
        "            count += 1\n",
        "        else:\n",
        "            if count != 0:\n",
        "                sum_of_space_count += count\n",
        "                count = 0\n",
        "                times_count += 1\n",
        "\n",
        "    if count != 0:\n",
        "        sum_of_space_count += count\n",
        "        count = 0\n",
        "        times_count += 1\n",
        "\n",
        "    if (times_count != 0):\n",
        "        return sum_of_space_count/times_count\n",
        "    else:\n",
        "        # When times count = 0, that signifies there is no space in this line.\n",
        "        # Here we will have to consider that the threshold is equal to the width\n",
        "        # of a single space. Unlike the code above here we are calculating the \n",
        "        # width of a letter.\n",
        "        vertical_projection = np.sum(\n",
        "            pros_img[page_block.y1:page_block.y2 +\n",
        "                     1, page_block.x1:page_block.x2+1],\n",
        "            axis=0\n",
        "        )\n",
        "\n",
        "        count_of_letters = 0\n",
        "        pixels_in_letter = 0\n",
        "        sum_of_pixels_in_letters = 0\n",
        "\n",
        "        for val in vertical_projection:\n",
        "            if val != 0:\n",
        "                pixels_in_letter += 1\n",
        "            else:\n",
        "                if pixels_in_letter != 0:\n",
        "                    count_of_letters += 1\n",
        "                    sum_of_pixels_in_letters += pixels_in_letter\n",
        "                    pixels_in_letter = 0\n",
        "\n",
        "        if pixels_in_letter != 0:\n",
        "            count_of_letters += 1\n",
        "            sum_of_pixels_in_letters += pixels_in_letter\n",
        "\n",
        "        if count_of_letters == 0:\n",
        "            return 0\n",
        "        else:\n",
        "            return sum_of_pixels_in_letters/count_of_letters"
      ]
    },
    {
      "cell_type": "code",
      "execution_count": null,
      "metadata": {
        "id": "RYOqVPel5klE"
      },
      "outputs": [],
      "source": [
        "def develop_lines(pros_img, left_col_lines, right_col_lines):\n",
        "    ordered_lines = []\n",
        "    temp_left_col = []\n",
        "    temp_right_col = []\n",
        "\n",
        "    i = 0\n",
        "    j = 0\n",
        "    while(i < len(left_col_lines) and j < len(right_col_lines)):\n",
        "        left_page_block = left_col_lines[i]\n",
        "        right_page_block = right_col_lines[j]\n",
        "\n",
        "        if (do_blocks_overlap(left_page_block, right_page_block)):\n",
        "\n",
        "            # Average space is considered to be equal to average of space of left\n",
        "            # line + average of space of right line i.e. approx 2 times the width of \n",
        "            # actual space width.\n",
        "            average_space = (get_average_space(pros_img, left_page_block) + get_average_space(pros_img, right_page_block))\n",
        "            short_height_block_difference = min(abs(left_page_block.y2-left_page_block.y1),abs(right_page_block.y2-right_page_block.y1))\n",
        "            long_height_difference = max(abs(left_page_block.y2-left_page_block.y1),abs(right_page_block.y2-right_page_block.y1))\n",
        "            \n",
        "            if (right_page_block.x1 - left_page_block.x2 <= average_space):\n",
        "              if(short_height_block_difference >= (long_height_difference)/2):\n",
        "                  ordered_lines += temp_left_col + temp_right_col\n",
        "\n",
        "                  temp_left_col.clear()\n",
        "                  temp_right_col.clear()\n",
        "                  ordered_lines.append(\n",
        "                        PageBlock(\n",
        "                            x1=left_page_block.x1,\n",
        "                            y1=min(left_page_block.y1, right_page_block.y1),\n",
        "                            x2=right_page_block.x2,\n",
        "                            y2=max(left_page_block.y2, right_page_block.y2)\n",
        "                        )\n",
        "                    )\n",
        "                  i+=1\n",
        "                  j+=1\n",
        "              #Height Difference is more \n",
        "              else :\n",
        "                  if(left_page_block.y2 < right_page_block.y2):\n",
        "                    temp_left_col.append(left_page_block)\n",
        "                    i += 1\n",
        "                  else:\n",
        "                    temp_right_col.append(right_page_block)\n",
        "                    j += 1\n",
        "            #Average Space is not matched\n",
        "            else :\n",
        "                if(left_page_block.y2 < right_page_block.y2):\n",
        "                    temp_left_col.append(left_page_block)\n",
        "                    i += 1\n",
        "                else:\n",
        "                    temp_right_col.append(right_page_block)\n",
        "                    j += 1\n",
        "\n",
        "        # No OverLapping  \n",
        "        elif (left_page_block.y2 < right_page_block.y1):\n",
        "            temp_left_col.append(left_page_block)\n",
        "            i += 1\n",
        "        else:\n",
        "            temp_right_col.append(right_page_block)\n",
        "            j += 1\n",
        "\n",
        "    while (i < len(left_col_lines)):\n",
        "        temp_left_col.append(left_col_lines[i])\n",
        "        i += 1\n",
        "\n",
        "    while (j < len(right_col_lines)):\n",
        "        temp_right_col.append(right_col_lines[j])\n",
        "        j += 1\n",
        "\n",
        "    ordered_lines += temp_left_col + temp_right_col\n",
        "\n",
        "    return ordered_lines"
      ]
    },
    {
      "cell_type": "code",
      "execution_count": null,
      "metadata": {
        "id": "Ryi0SrIf5nsM"
      },
      "outputs": [],
      "source": [
        "def do_preprocessing(filename):\n",
        "\n",
        "    img = cv2.imread(filename)\n",
        "\n",
        "    pros_img = get_processed_img(img)\n",
        "\n",
        "    dilate = get_dilated_img(pros_img, shape=(5, 5), iterations=4)\n",
        "\n",
        "    col_separator = get_column_separator(dilate)\n",
        "\n",
        "    if (col_separator == -1):\n",
        "        return []\n",
        "\n",
        "    left_page_block = shrink_to_best_fit(\n",
        "        pros_img,\n",
        "        page_block=PageBlock(0, 0, col_separator, pros_img.shape[0])\n",
        "    )\n",
        "\n",
        "    right_page_block = shrink_to_best_fit(\n",
        "        pros_img,\n",
        "        page_block=PageBlock(col_separator+1, 0,\n",
        "                             pros_img.shape[1], pros_img.shape[0])\n",
        "    )\n",
        "\n",
        "    left_col_lines = line_extraction(pros_img, left_page_block)\n",
        "    right_col_lines = line_extraction(pros_img, right_page_block)\n",
        "\n",
        "    human_read_lines = develop_lines(pros_img, left_col_lines, right_col_lines)\n",
        "\n",
        "    #draw_rectangle(img, human_read_lines)\n",
        "\n",
        "    return human_read_lines"
      ]
    },
    {
      "cell_type": "code",
      "execution_count": null,
      "metadata": {
        "id": "dB-GFswJ5qjn"
      },
      "outputs": [],
      "source": [
        "def do_blocks_outline_same_thing(page_block1, page_block2):\n",
        "    if (page_block1.y2 <= page_block2.y1 or page_block1.y1 >= page_block2.y2):\n",
        "        return False\n",
        "    elif (page_block1.x2 <= page_block2.x1 or page_block1.x1 >= page_block2.x2):\n",
        "        return False\n",
        "    else:\n",
        "        return True"
      ]
    },
    {
      "cell_type": "code",
      "execution_count": null,
      "metadata": {
        "id": "RSeuNNkO5taj"
      },
      "outputs": [],
      "source": [
        "def extract_annotations_for_img(filename):\n",
        "\n",
        "    tree = et.parse(filename)\n",
        "\n",
        "    root = tree.getroot()\n",
        "\n",
        "    annotation_list = list(root)\n",
        "\n",
        "    annotated_block_list = []\n",
        "\n",
        "    for annotation in annotation_list:\n",
        "        coordinates = list(annotation)[0].attrib['points'].split(' ')\n",
        "        x1, y1 = coordinates[0].split(',')\n",
        "        x2, y2 = coordinates[3].split(',')\n",
        "        annotated_block_list.append(\n",
        "            PageBlock(int(x1), int(y1), int(x2), int(y2), annotation.tag))\n",
        "\n",
        "    return annotated_block_list"
      ]
    },
    {
      "cell_type": "code",
      "execution_count": null,
      "metadata": {
        "id": "AfecFI_C91jD"
      },
      "outputs": [],
      "source": [
        "train_image_folder_path = 'drive/MyDrive/btp-dataset/Train/Train/Image/'\n",
        "train_annotation_folder_path = 'drive/MyDrive/btp-dataset/Train/Train/Annotations/'\n",
        "train_prepared_annotation_folder_path = 'drive/MyDrive/btp-dataset/Train/Prepared/Annotations/'\n",
        "testing_image_folder_path = 'drive/MyDrive/btp-dataset/Train/Train/Image/'#'drive/MyDrive/btp_test/testcases/images/'\n",
        "testing_annotation_folder_path = 'drive/MyDrive/btp-dataset/Train/Train/Annotations/'#'drive/MyDrive/btp_test/testcases/annotations/'\n",
        "testing_prepared_annotation_folder_path = 'drive/MyDrive/btp-dataset/Train/Prepared/Annotations/'#'drive/MyDrive/btp_test/output/'"
      ]
    },
    {
      "cell_type": "code",
      "execution_count": null,
      "metadata": {
        "colab": {
          "base_uri": "https://localhost:8080/",
          "height": 1000
        },
        "id": "bYYOqgK3QTkf",
        "outputId": "2e213cf0-8d7e-4232-bc56-97f061e131fb"
      },
      "outputs": [
        {
          "name": "stdout",
          "output_type": "stream",
          "text": [
            "16 139\n"
          ]
        },
        {
          "data": {
            "image/png": "[encoded data removed]",
            "text/plain": [
              "<PIL.Image.Image image mode=RGB size=640x32>"
            ]
          },
          "metadata": {},
          "output_type": "display_data"
        },
        {
          "name": "stdout",
          "output_type": "stream",
          "text": [
            "----------------------------\n",
            "\n",
            "\n",
            "12 7\n"
          ]
        },
        {
          "data": {
            "image/png": "[encoded data removed]",
            "text/plain": [
              "<PIL.Image.Image image mode=RGB size=640x32>"
            ]
          },
          "metadata": {},
          "output_type": "display_data"
        },
        {
          "name": "stdout",
          "output_type": "stream",
          "text": [
            "----------------------------\n",
            "\n",
            "\n",
            "1 825\n",
            "18 309\n"
          ]
        },
        {
          "data": {
            "image/png": "[encoded data removed]",
            "text/plain": [
              "<PIL.Image.Image image mode=RGB size=640x32>"
            ]
          },
          "metadata": {},
          "output_type": "display_data"
        },
        {
          "name": "stdout",
          "output_type": "stream",
          "text": [
            "----------------------------\n",
            "\n",
            "\n",
            "2 21\n",
            "17 688\n"
          ]
        },
        {
          "data": {
            "image/png": "[encoded data removed]",
            "text/plain": [
              "<PIL.Image.Image image mode=RGB size=640x32>"
            ]
          },
          "metadata": {},
          "output_type": "display_data"
        },
        {
          "name": "stdout",
          "output_type": "stream",
          "text": [
            "----------------------------\n",
            "\n",
            "\n",
            "17 823\n"
          ]
        },
        {
          "data": {
            "image/png": "[encoded data removed]",
            "text/plain": [
              "<PIL.Image.Image image mode=RGB size=640x32>"
            ]
          },
          "metadata": {},
          "output_type": "display_data"
        },
        {
          "name": "stdout",
          "output_type": "stream",
          "text": [
            "----------------------------\n",
            "\n",
            "\n",
            "17 822\n"
          ]
        },
        {
          "data": {
            "image/png": "[encoded data removed]",
            "text/plain": [
              "<PIL.Image.Image image mode=RGB size=640x32>"
            ]
          },
          "metadata": {},
          "output_type": "display_data"
        },
        {
          "name": "stdout",
          "output_type": "stream",
          "text": [
            "----------------------------\n",
            "\n",
            "\n",
            "1 10\n",
            "17 763\n"
          ]
        },
        {
          "data": {
            "image/png": "[encoded data removed]",
            "text/plain": [
              "<PIL.Image.Image image mode=RGB size=640x32>"
            ]
          },
          "metadata": {},
          "output_type": "display_data"
        },
        {
          "name": "stdout",
          "output_type": "stream",
          "text": [
            "----------------------------\n",
            "\n",
            "\n",
            "17 601\n"
          ]
        },
        {
          "data": {
            "image/png": "[encoded data removed]",
            "text/plain": [
              "<PIL.Image.Image image mode=RGB size=640x32>"
            ]
          },
          "metadata": {},
          "output_type": "display_data"
        },
        {
          "name": "stdout",
          "output_type": "stream",
          "text": [
            "----------------------------\n",
            "\n",
            "\n",
            "17 215\n"
          ]
        },
        {
          "data": {
            "image/png": "[encoded data removed]",
            "text/plain": [
              "<PIL.Image.Image image mode=RGB size=640x32>"
            ]
          },
          "metadata": {},
          "output_type": "display_data"
        },
        {
          "name": "stdout",
          "output_type": "stream",
          "text": [
            "----------------------------\n",
            "\n",
            "\n",
            "17 825\n"
          ]
        },
        {
          "data": {
            "image/png": "[encoded data removed]",
            "text/plain": [
              "<PIL.Image.Image image mode=RGB size=640x32>"
            ]
          },
          "metadata": {},
          "output_type": "display_data"
        },
        {
          "name": "stdout",
          "output_type": "stream",
          "text": [
            "----------------------------\n",
            "\n",
            "\n",
            "17 822\n"
          ]
        },
        {
          "data": {
            "image/png": "[encoded data removed]",
            "text/plain": [
              "<PIL.Image.Image image mode=RGB size=640x32>"
            ]
          },
          "metadata": {},
          "output_type": "display_data"
        },
        {
          "name": "stdout",
          "output_type": "stream",
          "text": [
            "----------------------------\n",
            "\n",
            "\n",
            "17 823\n"
          ]
        },
        {
          "data": {
            "image/png": "[encoded data removed]",
            "text/plain": [
              "<PIL.Image.Image image mode=RGB size=640x32>"
            ]
          },
          "metadata": {},
          "output_type": "display_data"
        },
        {
          "name": "stdout",
          "output_type": "stream",
          "text": [
            "----------------------------\n",
            "\n",
            "\n",
            "17 822\n"
          ]
        },
        {
          "data": {
            "image/png": "[encoded data removed]",
            "text/plain": [
              "<PIL.Image.Image image mode=RGB size=640x32>"
            ]
          },
          "metadata": {},
          "output_type": "display_data"
        },
        {
          "name": "stdout",
          "output_type": "stream",
          "text": [
            "----------------------------\n",
            "\n",
            "\n",
            "2 2\n",
            "17 653\n"
          ]
        },
        {
          "data": {
            "image/png": "[encoded data removed]",
            "text/plain": [
              "<PIL.Image.Image image mode=RGB size=640x32>"
            ]
          },
          "metadata": {},
          "output_type": "display_data"
        },
        {
          "name": "stdout",
          "output_type": "stream",
          "text": [
            "----------------------------\n",
            "\n",
            "\n",
            "17 204\n"
          ]
        },
        {
          "data": {
            "image/png": "[encoded data removed]",
            "text/plain": [
              "<PIL.Image.Image image mode=RGB size=640x32>"
            ]
          },
          "metadata": {},
          "output_type": "display_data"
        },
        {
          "name": "stdout",
          "output_type": "stream",
          "text": [
            "----------------------------\n",
            "\n",
            "\n",
            "33 215\n"
          ]
        },
        {
          "data": {
            "image/png": "[encoded data removed]",
            "text/plain": [
              "<PIL.Image.Image image mode=RGB size=640x32>"
            ]
          },
          "metadata": {},
          "output_type": "display_data"
        },
        {
          "name": "stdout",
          "output_type": "stream",
          "text": [
            "----------------------------\n",
            "\n",
            "\n",
            "3 1\n",
            "4 1\n",
            "4 1\n",
            "4 1\n",
            "4 1\n",
            "40 63\n"
          ]
        },
        {
          "data": {
            "image/png": "[encoded data removed]",
            "text/plain": [
              "<PIL.Image.Image image mode=RGB size=640x32>"
            ]
          },
          "metadata": {},
          "output_type": "display_data"
        },
        {
          "name": "stdout",
          "output_type": "stream",
          "text": [
            "----------------------------\n",
            "\n",
            "\n",
            "8 45\n",
            "40 317\n"
          ]
        },
        {
          "data": {
            "image/png": "[encoded data removed]",
            "text/plain": [
              "<PIL.Image.Image image mode=RGB size=640x32>"
            ]
          },
          "metadata": {},
          "output_type": "display_data"
        },
        {
          "name": "stdout",
          "output_type": "stream",
          "text": [
            "----------------------------\n",
            "\n",
            "\n",
            "8 44\n",
            "17 312\n"
          ]
        },
        {
          "data": {
            "image/png": "[encoded data removed]",
            "text/plain": [
              "<PIL.Image.Image image mode=RGB size=640x32>"
            ]
          },
          "metadata": {},
          "output_type": "display_data"
        },
        {
          "name": "stdout",
          "output_type": "stream",
          "text": [
            "----------------------------\n",
            "\n",
            "\n",
            "17 823\n"
          ]
        },
        {
          "data": {
            "image/png": "[encoded data removed]",
            "text/plain": [
              "<PIL.Image.Image image mode=RGB size=640x32>"
            ]
          },
          "metadata": {},
          "output_type": "display_data"
        },
        {
          "name": "stdout",
          "output_type": "stream",
          "text": [
            "----------------------------\n",
            "\n",
            "\n",
            "13 165\n"
          ]
        },
        {
          "data": {
            "image/png": "[encoded data removed]",
            "text/plain": [
              "<PIL.Image.Image image mode=RGB size=640x32>"
            ]
          },
          "metadata": {},
          "output_type": "display_data"
        },
        {
          "name": "stdout",
          "output_type": "stream",
          "text": [
            "----------------------------\n",
            "\n",
            "\n",
            "19 482\n"
          ]
        },
        {
          "data": {
            "image/png": "[encoded data removed]",
            "text/plain": [
              "<PIL.Image.Image image mode=RGB size=640x32>"
            ]
          },
          "metadata": {},
          "output_type": "display_data"
        },
        {
          "name": "stdout",
          "output_type": "stream",
          "text": [
            "----------------------------\n",
            "\n",
            "\n",
            "17 595\n"
          ]
        },
        {
          "data": {
            "image/png": "[encoded data removed]",
            "text/plain": [
              "<PIL.Image.Image image mode=RGB size=640x32>"
            ]
          },
          "metadata": {},
          "output_type": "display_data"
        },
        {
          "name": "stdout",
          "output_type": "stream",
          "text": [
            "----------------------------\n",
            "\n",
            "\n",
            "17 597\n"
          ]
        },
        {
          "data": {
            "image/png": "[encoded data removed]",
            "text/plain": [
              "<PIL.Image.Image image mode=RGB size=640x32>"
            ]
          },
          "metadata": {},
          "output_type": "display_data"
        },
        {
          "name": "stdout",
          "output_type": "stream",
          "text": [
            "----------------------------\n",
            "\n",
            "\n",
            "17 598\n"
          ]
        },
        {
          "data": {
            "image/png": "[encoded data removed]",
            "text/plain": [
              "<PIL.Image.Image image mode=RGB size=640x32>"
            ]
          },
          "metadata": {},
          "output_type": "display_data"
        },
        {
          "name": "stdout",
          "output_type": "stream",
          "text": [
            "----------------------------\n",
            "\n",
            "\n",
            "17 593\n"
          ]
        },
        {
          "data": {
            "image/png": "[encoded data removed]",
            "text/plain": [
              "<PIL.Image.Image image mode=RGB size=640x32>"
            ]
          },
          "metadata": {},
          "output_type": "display_data"
        },
        {
          "name": "stdout",
          "output_type": "stream",
          "text": [
            "----------------------------\n",
            "\n",
            "\n",
            "2 51\n",
            "14 221\n"
          ]
        },
        {
          "data": {
            "image/png": "[encoded data removed]",
            "text/plain": [
              "<PIL.Image.Image image mode=RGB size=640x32>"
            ]
          },
          "metadata": {},
          "output_type": "display_data"
        },
        {
          "name": "stdout",
          "output_type": "stream",
          "text": [
            "----------------------------\n",
            "\n",
            "\n",
            "13 220\n"
          ]
        },
        {
          "data": {
            "image/png": "[encoded data removed]",
            "text/plain": [
              "<PIL.Image.Image image mode=RGB size=640x32>"
            ]
          },
          "metadata": {},
          "output_type": "display_data"
        },
        {
          "name": "stdout",
          "output_type": "stream",
          "text": [
            "----------------------------\n",
            "\n",
            "\n",
            "17 221\n"
          ]
        },
        {
          "data": {
            "image/png": "[encoded data removed]",
            "text/plain": [
              "<PIL.Image.Image image mode=RGB size=640x32>"
            ]
          },
          "metadata": {},
          "output_type": "display_data"
        },
        {
          "name": "stdout",
          "output_type": "stream",
          "text": [
            "----------------------------\n",
            "\n",
            "\n",
            "17 823\n"
          ]
        },
        {
          "data": {
            "image/png": "[encoded data removed]",
            "text/plain": [
              "<PIL.Image.Image image mode=RGB size=640x32>"
            ]
          },
          "metadata": {},
          "output_type": "display_data"
        },
        {
          "name": "stdout",
          "output_type": "stream",
          "text": [
            "----------------------------\n",
            "\n",
            "\n",
            "17 825\n"
          ]
        },
        {
          "data": {
            "image/png": "[encoded data removed]",
            "text/plain": [
              "<PIL.Image.Image image mode=RGB size=640x32>"
            ]
          },
          "metadata": {},
          "output_type": "display_data"
        },
        {
          "name": "stdout",
          "output_type": "stream",
          "text": [
            "----------------------------\n",
            "\n",
            "\n",
            "1 825\n",
            "9 124\n",
            "8 141\n"
          ]
        }
      ],
      "source": [
        "\n",
        "def just_some_code_to_output_preprocessed_img():\n",
        "  img = cv2.imread('drive/MyDrive/btp_test/testcases/images/POD_0372.bmp')\n",
        "  unannotated_lines = do_preprocessing('drive/MyDrive/btp_test/testcases/images/POD_0374.bmp')\n",
        "  #draw_rectangle(img, unannotated_lines)\n",
        "  for b in unannotated_lines:\n",
        "    y, x, _ = np.shape(img[b.y1:b.y2+1, b.x1:b.x2+1]) \n",
        "    print(y, x)\n",
        "    if (y < 12):\n",
        "      continue\n",
        "    pros_img = img[b.y1:b.y2+1, b.x1:b.x2+1]\n",
        "    if (x < 640):\n",
        "      pros_img = cv2.copyMakeBorder(\n",
        "                 pros_img,\n",
        "                 0, \n",
        "                 0, \n",
        "                 (640-x)//2, \n",
        "                 (640-x)//2 + (x%2), \n",
        "                 cv2.BORDER_CONSTANT, \n",
        "                 value= [255, 255, 255]\n",
        "              )\n",
        "    \n",
        "    if (y < 32):\n",
        "      pros_img = cv2.copyMakeBorder(\n",
        "                 pros_img, \n",
        "                 (32-y)//2, \n",
        "                 (32-y)//2 + (x%2), \n",
        "                 0,\n",
        "                 0,\n",
        "                 cv2.BORDER_CONSTANT, \n",
        "                 value= [255, 255, 255]\n",
        "              )\n",
        "    \n",
        "if (TESTING):\n",
        "  just_some_code_to_output_preprocessed_img()"
      ]
    },
    {
      "cell_type": "code",
      "execution_count": null,
      "metadata": {
        "id": "MRRo44Yf5vrf"
      },
      "outputs": [],
      "source": [
        "#Dataset Preparation\n",
        "def prepare_dataset():\n",
        "\n",
        "  if TESTING:\n",
        "    image_folder_path = testing_image_folder_path\n",
        "    annotation_folder_path = testing_annotation_folder_path\n",
        "    prepared_annotation_folder_path = testing_prepared_annotation_folder_path\n",
        "  else:\n",
        "    image_folder_path = train_image_folder_path\n",
        "    annotation_folder_path = train_annotation_folder_path\n",
        "    prepared_annotation_folder_path = train_prepared_annotation_folder_path\n",
        "\n",
        "    file_list = os.listdir(image_folder_path)\n",
        "    number_of_files = len(file_list)\n",
        "\n",
        "  with tqdm(total=number_of_files) as pbar:\n",
        "\n",
        "    for image_filename in file_list:\n",
        "\n",
        "      annotation_filename = image_filename[:-3]+'xml'\n",
        "\n",
        "      unannotated_lines = do_preprocessing(image_folder_path+image_filename)\n",
        "      preannotated_lines = extract_annotations_for_img(annotation_folder_path+annotation_filename)\n",
        "\n",
        "      preannotated_lines_added = []\n",
        "      final_processed_lines = []\n",
        "\n",
        "      for unano_line in unannotated_lines:\n",
        "        something_added = False\n",
        "        for anno_line in preannotated_lines:\n",
        "          if (do_blocks_outline_same_thing(anno_line, unano_line)):\n",
        "            if (not(anno_line in preannotated_lines_added)):\n",
        "              final_processed_lines.append(anno_line)\n",
        "              preannotated_lines_added.append(anno_line)\n",
        "            something_added = True\n",
        "        if not something_added:\n",
        "          final_processed_lines.append(unano_line)\n",
        "\n",
        "        data = {}\n",
        "        data['lines'] = []\n",
        "        for line in final_processed_lines:\n",
        "          data['lines'].append(\n",
        "              {\n",
        "                  'x1': int(line.x1),\n",
        "                  'y1': int(line.y1),\n",
        "                  'x2': int(line.x2),\n",
        "                  'y2': int(line.y2),\n",
        "                  'block_class': line.block_class\n",
        "              }\n",
        "          )\n",
        "\n",
        "        json_file = prepared_annotation_folder_path + image_filename[:-3]+'json'\n",
        "        with open(json_file, 'w') as outfile:\n",
        "            json.dump(data, outfile)\n",
        "\n",
        "      if (TESTING):\n",
        "        print(image_filename)\n",
        "        print(image_folder_path+image_filename)\n",
        "        img = cv2.imread(image_folder_path+image_filename)\n",
        "        cv2_imshow(img)\n",
        "        # draw_rectangle(img, final_processed_lines)\n",
        "        print(output)\n",
        "      \n",
        "      pbar.update(1)\n",
        "\n"
      ]
    },
    {
      "cell_type": "code",
      "execution_count": null,
      "metadata": {
        "id": "zghUgFMm5wrY"
      },
      "outputs": [],
      "source": [
        "# Uncomment only if TESTING is set to TRUE.\n",
        "# prepare_dataset()"
      ]
    }
  ],
  "metadata": {
    "colab": {
      "provenance": []
    },
    "kernelspec": {
      "display_name": "Python 3",
      "name": "python3"
    },
    "language_info": {
      "name": "python"
    }
  },
  "nbformat": 4,
  "nbformat_minor": 0
}